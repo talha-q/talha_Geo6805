{
  "nbformat": 4,
  "nbformat_minor": 0,
  "metadata": {
    "colab": {
      "provenance": [],
      "gpuType": "T4",
      "include_colab_link": true
    },
    "kernelspec": {
      "name": "python3",
      "display_name": "Python 3"
    },
    "language_info": {
      "name": "python"
    },
    "widgets": {
      "application/vnd.jupyter.widget-state+json": {
        "99a657fe7ae14a9990fb5493a06522bc": {
          "model_module": "@jupyter-widgets/controls",
          "model_name": "HBoxModel",
          "model_module_version": "1.5.0",
          "state": {
            "_dom_classes": [],
            "_model_module": "@jupyter-widgets/controls",
            "_model_module_version": "1.5.0",
            "_model_name": "HBoxModel",
            "_view_count": null,
            "_view_module": "@jupyter-widgets/controls",
            "_view_module_version": "1.5.0",
            "_view_name": "HBoxView",
            "box_style": "",
            "children": [
              "IPY_MODEL_9be9dd87811243548f7dbfef81e18a67",
              "IPY_MODEL_812f1be033a647579a345e14433d1387",
              "IPY_MODEL_a9e7a6fbeb8145ca8bdd622702403146"
            ],
            "layout": "IPY_MODEL_d9c06db5abc14213b187e1930516fd83"
          }
        },
        "9be9dd87811243548f7dbfef81e18a67": {
          "model_module": "@jupyter-widgets/controls",
          "model_name": "HTMLModel",
          "model_module_version": "1.5.0",
          "state": {
            "_dom_classes": [],
            "_model_module": "@jupyter-widgets/controls",
            "_model_module_version": "1.5.0",
            "_model_name": "HTMLModel",
            "_view_count": null,
            "_view_module": "@jupyter-widgets/controls",
            "_view_module_version": "1.5.0",
            "_view_name": "HTMLView",
            "description": "",
            "description_tooltip": null,
            "layout": "IPY_MODEL_32354b1d2de846979923b06bbef501ec",
            "placeholder": "​",
            "style": "IPY_MODEL_2ce72a37e3ae4a2d93e8eb36f0ae47e2",
            "value": "Sampling data: 100%"
          }
        },
        "812f1be033a647579a345e14433d1387": {
          "model_module": "@jupyter-widgets/controls",
          "model_name": "FloatProgressModel",
          "model_module_version": "1.5.0",
          "state": {
            "_dom_classes": [],
            "_model_module": "@jupyter-widgets/controls",
            "_model_module_version": "1.5.0",
            "_model_name": "FloatProgressModel",
            "_view_count": null,
            "_view_module": "@jupyter-widgets/controls",
            "_view_module_version": "1.5.0",
            "_view_name": "ProgressView",
            "bar_style": "success",
            "description": "",
            "description_tooltip": null,
            "layout": "IPY_MODEL_7023d14b4ead4bdaac53e22cb0073e3b",
            "max": 631,
            "min": 0,
            "orientation": "horizontal",
            "style": "IPY_MODEL_ebf8f1d2f8b34c81b7cec5be17c3dd43",
            "value": 631
          }
        },
        "a9e7a6fbeb8145ca8bdd622702403146": {
          "model_module": "@jupyter-widgets/controls",
          "model_name": "HTMLModel",
          "model_module_version": "1.5.0",
          "state": {
            "_dom_classes": [],
            "_model_module": "@jupyter-widgets/controls",
            "_model_module_version": "1.5.0",
            "_model_name": "HTMLModel",
            "_view_count": null,
            "_view_module": "@jupyter-widgets/controls",
            "_view_module_version": "1.5.0",
            "_view_name": "HTMLView",
            "description": "",
            "description_tooltip": null,
            "layout": "IPY_MODEL_6899c3eaf5134ded81e81fc954fb90d1",
            "placeholder": "​",
            "style": "IPY_MODEL_123f885056b94e44aa6543a7cca93005",
            "value": " 631/631 [04:02&lt;00:00,  3.21it/s]"
          }
        },
        "d9c06db5abc14213b187e1930516fd83": {
          "model_module": "@jupyter-widgets/base",
          "model_name": "LayoutModel",
          "model_module_version": "1.2.0",
          "state": {
            "_model_module": "@jupyter-widgets/base",
            "_model_module_version": "1.2.0",
            "_model_name": "LayoutModel",
            "_view_count": null,
            "_view_module": "@jupyter-widgets/base",
            "_view_module_version": "1.2.0",
            "_view_name": "LayoutView",
            "align_content": null,
            "align_items": null,
            "align_self": null,
            "border": null,
            "bottom": null,
            "display": null,
            "flex": null,
            "flex_flow": null,
            "grid_area": null,
            "grid_auto_columns": null,
            "grid_auto_flow": null,
            "grid_auto_rows": null,
            "grid_column": null,
            "grid_gap": null,
            "grid_row": null,
            "grid_template_areas": null,
            "grid_template_columns": null,
            "grid_template_rows": null,
            "height": null,
            "justify_content": null,
            "justify_items": null,
            "left": null,
            "margin": null,
            "max_height": null,
            "max_width": null,
            "min_height": null,
            "min_width": null,
            "object_fit": null,
            "object_position": null,
            "order": null,
            "overflow": null,
            "overflow_x": null,
            "overflow_y": null,
            "padding": null,
            "right": null,
            "top": null,
            "visibility": null,
            "width": null
          }
        },
        "32354b1d2de846979923b06bbef501ec": {
          "model_module": "@jupyter-widgets/base",
          "model_name": "LayoutModel",
          "model_module_version": "1.2.0",
          "state": {
            "_model_module": "@jupyter-widgets/base",
            "_model_module_version": "1.2.0",
            "_model_name": "LayoutModel",
            "_view_count": null,
            "_view_module": "@jupyter-widgets/base",
            "_view_module_version": "1.2.0",
            "_view_name": "LayoutView",
            "align_content": null,
            "align_items": null,
            "align_self": null,
            "border": null,
            "bottom": null,
            "display": null,
            "flex": null,
            "flex_flow": null,
            "grid_area": null,
            "grid_auto_columns": null,
            "grid_auto_flow": null,
            "grid_auto_rows": null,
            "grid_column": null,
            "grid_gap": null,
            "grid_row": null,
            "grid_template_areas": null,
            "grid_template_columns": null,
            "grid_template_rows": null,
            "height": null,
            "justify_content": null,
            "justify_items": null,
            "left": null,
            "margin": null,
            "max_height": null,
            "max_width": null,
            "min_height": null,
            "min_width": null,
            "object_fit": null,
            "object_position": null,
            "order": null,
            "overflow": null,
            "overflow_x": null,
            "overflow_y": null,
            "padding": null,
            "right": null,
            "top": null,
            "visibility": null,
            "width": null
          }
        },
        "2ce72a37e3ae4a2d93e8eb36f0ae47e2": {
          "model_module": "@jupyter-widgets/controls",
          "model_name": "DescriptionStyleModel",
          "model_module_version": "1.5.0",
          "state": {
            "_model_module": "@jupyter-widgets/controls",
            "_model_module_version": "1.5.0",
            "_model_name": "DescriptionStyleModel",
            "_view_count": null,
            "_view_module": "@jupyter-widgets/base",
            "_view_module_version": "1.2.0",
            "_view_name": "StyleView",
            "description_width": ""
          }
        },
        "7023d14b4ead4bdaac53e22cb0073e3b": {
          "model_module": "@jupyter-widgets/base",
          "model_name": "LayoutModel",
          "model_module_version": "1.2.0",
          "state": {
            "_model_module": "@jupyter-widgets/base",
            "_model_module_version": "1.2.0",
            "_model_name": "LayoutModel",
            "_view_count": null,
            "_view_module": "@jupyter-widgets/base",
            "_view_module_version": "1.2.0",
            "_view_name": "LayoutView",
            "align_content": null,
            "align_items": null,
            "align_self": null,
            "border": null,
            "bottom": null,
            "display": null,
            "flex": null,
            "flex_flow": null,
            "grid_area": null,
            "grid_auto_columns": null,
            "grid_auto_flow": null,
            "grid_auto_rows": null,
            "grid_column": null,
            "grid_gap": null,
            "grid_row": null,
            "grid_template_areas": null,
            "grid_template_columns": null,
            "grid_template_rows": null,
            "height": null,
            "justify_content": null,
            "justify_items": null,
            "left": null,
            "margin": null,
            "max_height": null,
            "max_width": null,
            "min_height": null,
            "min_width": null,
            "object_fit": null,
            "object_position": null,
            "order": null,
            "overflow": null,
            "overflow_x": null,
            "overflow_y": null,
            "padding": null,
            "right": null,
            "top": null,
            "visibility": null,
            "width": null
          }
        },
        "ebf8f1d2f8b34c81b7cec5be17c3dd43": {
          "model_module": "@jupyter-widgets/controls",
          "model_name": "ProgressStyleModel",
          "model_module_version": "1.5.0",
          "state": {
            "_model_module": "@jupyter-widgets/controls",
            "_model_module_version": "1.5.0",
            "_model_name": "ProgressStyleModel",
            "_view_count": null,
            "_view_module": "@jupyter-widgets/base",
            "_view_module_version": "1.2.0",
            "_view_name": "StyleView",
            "bar_color": null,
            "description_width": ""
          }
        },
        "6899c3eaf5134ded81e81fc954fb90d1": {
          "model_module": "@jupyter-widgets/base",
          "model_name": "LayoutModel",
          "model_module_version": "1.2.0",
          "state": {
            "_model_module": "@jupyter-widgets/base",
            "_model_module_version": "1.2.0",
            "_model_name": "LayoutModel",
            "_view_count": null,
            "_view_module": "@jupyter-widgets/base",
            "_view_module_version": "1.2.0",
            "_view_name": "LayoutView",
            "align_content": null,
            "align_items": null,
            "align_self": null,
            "border": null,
            "bottom": null,
            "display": null,
            "flex": null,
            "flex_flow": null,
            "grid_area": null,
            "grid_auto_columns": null,
            "grid_auto_flow": null,
            "grid_auto_rows": null,
            "grid_column": null,
            "grid_gap": null,
            "grid_row": null,
            "grid_template_areas": null,
            "grid_template_columns": null,
            "grid_template_rows": null,
            "height": null,
            "justify_content": null,
            "justify_items": null,
            "left": null,
            "margin": null,
            "max_height": null,
            "max_width": null,
            "min_height": null,
            "min_width": null,
            "object_fit": null,
            "object_position": null,
            "order": null,
            "overflow": null,
            "overflow_x": null,
            "overflow_y": null,
            "padding": null,
            "right": null,
            "top": null,
            "visibility": null,
            "width": null
          }
        },
        "123f885056b94e44aa6543a7cca93005": {
          "model_module": "@jupyter-widgets/controls",
          "model_name": "DescriptionStyleModel",
          "model_module_version": "1.5.0",
          "state": {
            "_model_module": "@jupyter-widgets/controls",
            "_model_module_version": "1.5.0",
            "_model_name": "DescriptionStyleModel",
            "_view_count": null,
            "_view_module": "@jupyter-widgets/base",
            "_view_module_version": "1.2.0",
            "_view_name": "StyleView",
            "description_width": ""
          }
        },
        "91862dcd9bfd48048f89b28d69feaf93": {
          "model_module": "@jupyter-widgets/controls",
          "model_name": "HBoxModel",
          "model_module_version": "1.5.0",
          "state": {
            "_dom_classes": [],
            "_model_module": "@jupyter-widgets/controls",
            "_model_module_version": "1.5.0",
            "_model_name": "HBoxModel",
            "_view_count": null,
            "_view_module": "@jupyter-widgets/controls",
            "_view_module_version": "1.5.0",
            "_view_name": "HBoxView",
            "box_style": "",
            "children": [
              "IPY_MODEL_5658e121943445339063c8bd13e11e46",
              "IPY_MODEL_d26ab801efad49809d4f6ae58d0c9dc8",
              "IPY_MODEL_3e34676368464b659addf99279b5eeac"
            ],
            "layout": "IPY_MODEL_945d3445c4bf4c70ab3355dff78f92f8"
          }
        },
        "5658e121943445339063c8bd13e11e46": {
          "model_module": "@jupyter-widgets/controls",
          "model_name": "HTMLModel",
          "model_module_version": "1.5.0",
          "state": {
            "_dom_classes": [],
            "_model_module": "@jupyter-widgets/controls",
            "_model_module_version": "1.5.0",
            "_model_name": "HTMLModel",
            "_view_count": null,
            "_view_module": "@jupyter-widgets/controls",
            "_view_module_version": "1.5.0",
            "_view_name": "HTMLView",
            "description": "",
            "description_tooltip": null,
            "layout": "IPY_MODEL_292030b59a0c4725845e80131a1792c1",
            "placeholder": "​",
            "style": "IPY_MODEL_1b033ed1b17c4a1c91c2368d28c2f27a",
            "value": "Flattening and Storing Bands: 100%"
          }
        },
        "d26ab801efad49809d4f6ae58d0c9dc8": {
          "model_module": "@jupyter-widgets/controls",
          "model_name": "FloatProgressModel",
          "model_module_version": "1.5.0",
          "state": {
            "_dom_classes": [],
            "_model_module": "@jupyter-widgets/controls",
            "_model_module_version": "1.5.0",
            "_model_name": "FloatProgressModel",
            "_view_count": null,
            "_view_module": "@jupyter-widgets/controls",
            "_view_module_version": "1.5.0",
            "_view_name": "ProgressView",
            "bar_style": "success",
            "description": "",
            "description_tooltip": null,
            "layout": "IPY_MODEL_a47aa959db8346ffaa42a110e6317a17",
            "max": 631,
            "min": 0,
            "orientation": "horizontal",
            "style": "IPY_MODEL_47a166187955497497db9159ef4cb9af",
            "value": 631
          }
        },
        "3e34676368464b659addf99279b5eeac": {
          "model_module": "@jupyter-widgets/controls",
          "model_name": "HTMLModel",
          "model_module_version": "1.5.0",
          "state": {
            "_dom_classes": [],
            "_model_module": "@jupyter-widgets/controls",
            "_model_module_version": "1.5.0",
            "_model_name": "HTMLModel",
            "_view_count": null,
            "_view_module": "@jupyter-widgets/controls",
            "_view_module_version": "1.5.0",
            "_view_name": "HTMLView",
            "description": "",
            "description_tooltip": null,
            "layout": "IPY_MODEL_29355d0bc3154a0b841b326b18219bc9",
            "placeholder": "​",
            "style": "IPY_MODEL_e4d3d67b07cf4edeac664320cb310379",
            "value": " 631/631 [00:00&lt;00:00, 1433.56it/s]"
          }
        },
        "945d3445c4bf4c70ab3355dff78f92f8": {
          "model_module": "@jupyter-widgets/base",
          "model_name": "LayoutModel",
          "model_module_version": "1.2.0",
          "state": {
            "_model_module": "@jupyter-widgets/base",
            "_model_module_version": "1.2.0",
            "_model_name": "LayoutModel",
            "_view_count": null,
            "_view_module": "@jupyter-widgets/base",
            "_view_module_version": "1.2.0",
            "_view_name": "LayoutView",
            "align_content": null,
            "align_items": null,
            "align_self": null,
            "border": null,
            "bottom": null,
            "display": null,
            "flex": null,
            "flex_flow": null,
            "grid_area": null,
            "grid_auto_columns": null,
            "grid_auto_flow": null,
            "grid_auto_rows": null,
            "grid_column": null,
            "grid_gap": null,
            "grid_row": null,
            "grid_template_areas": null,
            "grid_template_columns": null,
            "grid_template_rows": null,
            "height": null,
            "justify_content": null,
            "justify_items": null,
            "left": null,
            "margin": null,
            "max_height": null,
            "max_width": null,
            "min_height": null,
            "min_width": null,
            "object_fit": null,
            "object_position": null,
            "order": null,
            "overflow": null,
            "overflow_x": null,
            "overflow_y": null,
            "padding": null,
            "right": null,
            "top": null,
            "visibility": null,
            "width": null
          }
        },
        "292030b59a0c4725845e80131a1792c1": {
          "model_module": "@jupyter-widgets/base",
          "model_name": "LayoutModel",
          "model_module_version": "1.2.0",
          "state": {
            "_model_module": "@jupyter-widgets/base",
            "_model_module_version": "1.2.0",
            "_model_name": "LayoutModel",
            "_view_count": null,
            "_view_module": "@jupyter-widgets/base",
            "_view_module_version": "1.2.0",
            "_view_name": "LayoutView",
            "align_content": null,
            "align_items": null,
            "align_self": null,
            "border": null,
            "bottom": null,
            "display": null,
            "flex": null,
            "flex_flow": null,
            "grid_area": null,
            "grid_auto_columns": null,
            "grid_auto_flow": null,
            "grid_auto_rows": null,
            "grid_column": null,
            "grid_gap": null,
            "grid_row": null,
            "grid_template_areas": null,
            "grid_template_columns": null,
            "grid_template_rows": null,
            "height": null,
            "justify_content": null,
            "justify_items": null,
            "left": null,
            "margin": null,
            "max_height": null,
            "max_width": null,
            "min_height": null,
            "min_width": null,
            "object_fit": null,
            "object_position": null,
            "order": null,
            "overflow": null,
            "overflow_x": null,
            "overflow_y": null,
            "padding": null,
            "right": null,
            "top": null,
            "visibility": null,
            "width": null
          }
        },
        "1b033ed1b17c4a1c91c2368d28c2f27a": {
          "model_module": "@jupyter-widgets/controls",
          "model_name": "DescriptionStyleModel",
          "model_module_version": "1.5.0",
          "state": {
            "_model_module": "@jupyter-widgets/controls",
            "_model_module_version": "1.5.0",
            "_model_name": "DescriptionStyleModel",
            "_view_count": null,
            "_view_module": "@jupyter-widgets/base",
            "_view_module_version": "1.2.0",
            "_view_name": "StyleView",
            "description_width": ""
          }
        },
        "a47aa959db8346ffaa42a110e6317a17": {
          "model_module": "@jupyter-widgets/base",
          "model_name": "LayoutModel",
          "model_module_version": "1.2.0",
          "state": {
            "_model_module": "@jupyter-widgets/base",
            "_model_module_version": "1.2.0",
            "_model_name": "LayoutModel",
            "_view_count": null,
            "_view_module": "@jupyter-widgets/base",
            "_view_module_version": "1.2.0",
            "_view_name": "LayoutView",
            "align_content": null,
            "align_items": null,
            "align_self": null,
            "border": null,
            "bottom": null,
            "display": null,
            "flex": null,
            "flex_flow": null,
            "grid_area": null,
            "grid_auto_columns": null,
            "grid_auto_flow": null,
            "grid_auto_rows": null,
            "grid_column": null,
            "grid_gap": null,
            "grid_row": null,
            "grid_template_areas": null,
            "grid_template_columns": null,
            "grid_template_rows": null,
            "height": null,
            "justify_content": null,
            "justify_items": null,
            "left": null,
            "margin": null,
            "max_height": null,
            "max_width": null,
            "min_height": null,
            "min_width": null,
            "object_fit": null,
            "object_position": null,
            "order": null,
            "overflow": null,
            "overflow_x": null,
            "overflow_y": null,
            "padding": null,
            "right": null,
            "top": null,
            "visibility": null,
            "width": null
          }
        },
        "47a166187955497497db9159ef4cb9af": {
          "model_module": "@jupyter-widgets/controls",
          "model_name": "ProgressStyleModel",
          "model_module_version": "1.5.0",
          "state": {
            "_model_module": "@jupyter-widgets/controls",
            "_model_module_version": "1.5.0",
            "_model_name": "ProgressStyleModel",
            "_view_count": null,
            "_view_module": "@jupyter-widgets/base",
            "_view_module_version": "1.2.0",
            "_view_name": "StyleView",
            "bar_color": null,
            "description_width": ""
          }
        },
        "29355d0bc3154a0b841b326b18219bc9": {
          "model_module": "@jupyter-widgets/base",
          "model_name": "LayoutModel",
          "model_module_version": "1.2.0",
          "state": {
            "_model_module": "@jupyter-widgets/base",
            "_model_module_version": "1.2.0",
            "_model_name": "LayoutModel",
            "_view_count": null,
            "_view_module": "@jupyter-widgets/base",
            "_view_module_version": "1.2.0",
            "_view_name": "LayoutView",
            "align_content": null,
            "align_items": null,
            "align_self": null,
            "border": null,
            "bottom": null,
            "display": null,
            "flex": null,
            "flex_flow": null,
            "grid_area": null,
            "grid_auto_columns": null,
            "grid_auto_flow": null,
            "grid_auto_rows": null,
            "grid_column": null,
            "grid_gap": null,
            "grid_row": null,
            "grid_template_areas": null,
            "grid_template_columns": null,
            "grid_template_rows": null,
            "height": null,
            "justify_content": null,
            "justify_items": null,
            "left": null,
            "margin": null,
            "max_height": null,
            "max_width": null,
            "min_height": null,
            "min_width": null,
            "object_fit": null,
            "object_position": null,
            "order": null,
            "overflow": null,
            "overflow_x": null,
            "overflow_y": null,
            "padding": null,
            "right": null,
            "top": null,
            "visibility": null,
            "width": null
          }
        },
        "e4d3d67b07cf4edeac664320cb310379": {
          "model_module": "@jupyter-widgets/controls",
          "model_name": "DescriptionStyleModel",
          "model_module_version": "1.5.0",
          "state": {
            "_model_module": "@jupyter-widgets/controls",
            "_model_module_version": "1.5.0",
            "_model_name": "DescriptionStyleModel",
            "_view_count": null,
            "_view_module": "@jupyter-widgets/base",
            "_view_module_version": "1.2.0",
            "_view_name": "StyleView",
            "description_width": ""
          }
        }
      }
    },
    "accelerator": "GPU"
  },
  "cells": [
    {
      "cell_type": "markdown",
      "metadata": {
        "id": "view-in-github",
        "colab_type": "text"
      },
      "source": [
        "<a href=\"https://colab.research.google.com/github/talha-q/talha_Geo6805/blob/main/Lab_3_Resnet50_Talha.ipynb\" target=\"_parent\"><img src=\"https://colab.research.google.com/assets/colab-badge.svg\" alt=\"Open In Colab\"/></a>"
      ]
    },
    {
      "cell_type": "markdown",
      "source": [
        "Connecting the Drive"
      ],
      "metadata": {
        "id": "olaAXQmVSLHd"
      }
    },
    {
      "cell_type": "code",
      "source": [
        "from google.colab import drive\n",
        "drive.mount('/content/drive')"
      ],
      "metadata": {
        "colab": {
          "base_uri": "https://localhost:8080/"
        },
        "id": "AIwt2_YlFqUe",
        "outputId": "41c23a5b-51b0-479a-c421-66e24e727c82"
      },
      "execution_count": 1,
      "outputs": [
        {
          "output_type": "stream",
          "name": "stdout",
          "text": [
            "Mounted at /content/drive\n"
          ]
        }
      ]
    },
    {
      "cell_type": "markdown",
      "source": [
        "Loading Libraries"
      ],
      "metadata": {
        "id": "GT92ppPjR_ex"
      }
    },
    {
      "cell_type": "code",
      "source": [
        "import os\n",
        "import torch\n",
        "import torch.nn as nn\n",
        "import torch.optim as optim\n",
        "from torch.utils.data import Dataset, DataLoader, random_split\n",
        "import torchvision\n",
        "import torchvision.transforms as transforms\n",
        "import timm\n",
        "import matplotlib.pyplot as plt\n",
        "import pandas as pd\n",
        "import numpy as np\n",
        "import sys\n",
        "from tqdm.notebook import tqdm\n",
        "from glob import glob\n",
        "from pathlib import Path\n",
        "from osgeo import gdal\n",
        "import pickle\n",
        "import random\n"
      ],
      "metadata": {
        "id": "E9gZSff-Cn24"
      },
      "execution_count": 2,
      "outputs": []
    },
    {
      "cell_type": "markdown",
      "source": [
        "Checking libraries"
      ],
      "metadata": {
        "id": "vilaJBI9SF18"
      }
    },
    {
      "cell_type": "code",
      "source": [
        "print('System Version:', sys.version)\n",
        "print('PyTorch version', torch.__version__)\n",
        "print('Torchvision version', torchvision.__version__)\n",
        "print('Numpy version', np.__version__)\n",
        "print('Pandas version', pd.__version__)"
      ],
      "metadata": {
        "colab": {
          "base_uri": "https://localhost:8080/"
        },
        "id": "5QviiwjcSIgh",
        "outputId": "a52ebcf9-7dd3-4412-94ea-f78743c94da0"
      },
      "execution_count": 3,
      "outputs": [
        {
          "output_type": "stream",
          "name": "stdout",
          "text": [
            "System Version: 3.11.12 (main, Apr  9 2025, 08:55:54) [GCC 11.4.0]\n",
            "PyTorch version 2.6.0+cu124\n",
            "Torchvision version 0.21.0+cu124\n",
            "Numpy version 2.0.2\n",
            "Pandas version 2.2.2\n"
          ]
        }
      ]
    },
    {
      "cell_type": "markdown",
      "source": [
        "Code for loading Custom Dataset (RS data)"
      ],
      "metadata": {
        "id": "At5OGhZfCrgR"
      }
    },
    {
      "cell_type": "code",
      "source": [
        "class CustomImageDataset(Dataset):\n",
        "    def __init__(self, img_dir, img_transform=None, sensor=None):\n",
        "        self.img_dir = img_dir\n",
        "        self.img_transform = img_transform\n",
        "        self.sensor = sensor\n",
        "\n",
        "        self.tif_files = sorted(glob(os.path.join(self.img_dir, \"**\", \"*.[tT][iI][fF]\"), recursive=True))\n",
        "        sub_folders = sorted(\n",
        "            class_name for class_name in os.listdir(self.img_dir)\n",
        "            if os.path.isdir(os.path.join(self.img_dir, class_name))\n",
        "        )\n",
        "        self.sub_folder_dict = {class_name: index for index, class_name in enumerate(sub_folders)}\n",
        "\n",
        "    def __len__(self):\n",
        "        return len(self.tif_files)\n",
        "\n",
        "    def __getitem__(self, idx):\n",
        "        img_path = self.tif_files[idx]\n",
        "        image_file = gdal.Open(img_path)\n",
        "\n",
        "        if self.sensor == 'rgb':\n",
        "            band_r = image_file.GetRasterBand(1).ReadAsArray().astype(np.float32)\n",
        "            band_g = image_file.GetRasterBand(2).ReadAsArray().astype(np.float32)\n",
        "            band_b = image_file.GetRasterBand(3).ReadAsArray().astype(np.float32)\n",
        "            image = np.stack([band_r, band_g, band_b], axis=0)\n",
        "        elif self.sensor == 'planet':\n",
        "            band_r = image_file.GetRasterBand(1).ReadAsArray().astype(np.float32)\n",
        "            band_g = image_file.GetRasterBand(2).ReadAsArray().astype(np.float32)\n",
        "            band_b = image_file.GetRasterBand(3).ReadAsArray().astype(np.float32)\n",
        "            band_nir = image_file.GetRasterBand(4).ReadAsArray().astype(np.float32)\n",
        "            image = np.stack([band_r, band_g, band_b, band_nir], axis=0)\n",
        "        elif self.sensor == 's1':\n",
        "            band_vv = image_file.GetRasterBand(1).ReadAsArray().astype(np.float32)\n",
        "            band_vh = image_file.GetRasterBand(2).ReadAsArray().astype(np.float32)\n",
        "            image = np.stack([band_vv, band_vh], axis=0)\n",
        "        else:\n",
        "            raise ValueError(f\"Sensor {self.sensor} not supported\")\n",
        "\n",
        "        if self.img_transform:\n",
        "            image = self.img_transform(image)\n",
        "\n",
        "        label = self.sub_folder_dict[Path(img_path).parts[-2]]\n",
        "        return image, label\n"
      ],
      "metadata": {
        "id": "EAwpOerSCu_G"
      },
      "execution_count": 4,
      "outputs": []
    },
    {
      "cell_type": "markdown",
      "source": [
        "# Assignment 1 Custom Z Score"
      ],
      "metadata": {
        "id": "UZVcJdpCEFOJ"
      }
    },
    {
      "cell_type": "code",
      "source": [
        "#Loading the data\n",
        "data_path = \"/content/drive/My Drive/UCMerced_LandUse/UCMerced_LandUse/Images\"\n",
        "data = CustomImageDataset(data_path, sensor='rgb')\n",
        "print(data)\n",
        "print(len(data))\n",
        "print(data[0])"
      ],
      "metadata": {
        "colab": {
          "base_uri": "https://localhost:8080/"
        },
        "id": "tU-M0slrTBTg",
        "outputId": "29de8351-317b-48f8-a7f6-be7f565ff563"
      },
      "execution_count": 6,
      "outputs": [
        {
          "output_type": "stream",
          "name": "stdout",
          "text": [
            "<__main__.CustomImageDataset object at 0x7b6856bdfb10>\n",
            "2106\n",
            "(array([[[ 44.,  53.,  47., ..., 125., 137., 119.],\n",
            "        [ 41.,  46.,  44., ...,  83., 124., 135.],\n",
            "        [ 42.,  44.,  43., ...,  90.,  99., 101.],\n",
            "        ...,\n",
            "        [175., 190., 223., ..., 144., 135., 124.],\n",
            "        [120., 151., 168., ..., 123., 126., 133.],\n",
            "        [128., 113., 122., ..., 101.,  99., 135.]],\n",
            "\n",
            "       [[ 41.,  50.,  44., ..., 126., 137., 119.],\n",
            "        [ 38.,  43.,  41., ...,  83., 124., 131.],\n",
            "        [ 39.,  41.,  40., ...,  95., 103.,  99.],\n",
            "        ...,\n",
            "        [173., 191., 223., ..., 144., 135., 123.],\n",
            "        [113., 147., 166., ..., 121., 121., 129.],\n",
            "        [118., 103., 114., ..., 101.,  95., 129.]],\n",
            "\n",
            "       [[ 45.,  56.,  50., ..., 122., 130., 111.],\n",
            "        [ 42.,  46.,  45., ...,  81., 118., 126.],\n",
            "        [ 43.,  44.,  44., ...,  91.,  98.,  97.],\n",
            "        ...,\n",
            "        [175., 189., 221., ..., 136., 126., 118.],\n",
            "        [120., 150., 165., ..., 117., 117., 124.],\n",
            "        [127., 110., 118., ...,  99.,  94., 127.]]], dtype=float32), 0)\n"
          ]
        }
      ]
    },
    {
      "cell_type": "markdown",
      "source": [
        "Randomly selecting training data from the dataset, Using 30 percent of the total dataset."
      ],
      "metadata": {
        "id": "GhUu0hFqfvta"
      }
    },
    {
      "cell_type": "code",
      "source": [
        "# using random seed so we get the same random set everytime\n",
        "random.seed(\"seed1\")\n",
        "samplesize = int(0.3 * len(data))\n",
        "\n",
        "print(f\"****Random Sample Data****\\nselecting 30% from the dataset of {len(data)}\\nSample size for training is {samplesize}\\n\")\n",
        "sampleidx = random.sample(range(len(data)), samplesize)\n",
        "print(f\"***Randomly sampled {samplesize} indices from dataset***\\n{sampleidx}\")\n"
      ],
      "metadata": {
        "colab": {
          "base_uri": "https://localhost:8080/"
        },
        "id": "WVSBJ-pjTzVZ",
        "outputId": "4c0dad7b-05d8-491e-863d-32cc8d8468e8"
      },
      "execution_count": 7,
      "outputs": [
        {
          "output_type": "stream",
          "name": "stdout",
          "text": [
            "****Random Sample Data****\n",
            "selecting 30% from the dataset of 2106\n",
            "Sample size for training is 631\n",
            "\n",
            "***Randomly sampled 631 indices from dataset***\n",
            "[709, 2041, 1401, 1570, 1002, 1960, 1372, 279, 81, 946, 421, 332, 834, 147, 121, 2099, 771, 2062, 50, 189, 1073, 1725, 1225, 800, 1487, 1553, 510, 1993, 200, 1686, 907, 966, 1140, 1078, 1787, 625, 634, 1468, 289, 1139, 275, 405, 140, 1910, 413, 546, 725, 462, 1625, 1486, 1733, 1383, 82, 1492, 1183, 324, 813, 1293, 1659, 1283, 868, 1366, 66, 1211, 639, 465, 1828, 1013, 1629, 399, 1395, 754, 1272, 1107, 812, 901, 1797, 633, 789, 406, 1842, 1467, 1, 337, 2083, 1432, 1413, 1510, 710, 149, 300, 1095, 2001, 829, 1982, 1400, 1017, 1517, 209, 1815, 930, 1090, 1716, 762, 643, 1965, 1202, 561, 737, 491, 1471, 1346, 1150, 1349, 1766, 745, 931, 277, 1585, 910, 418, 524, 349, 226, 461, 1578, 2100, 2065, 667, 700, 956, 1859, 1154, 1864, 452, 785, 1218, 1677, 88, 2056, 1866, 916, 1209, 1776, 323, 280, 407, 1415, 2037, 1390, 875, 502, 1934, 548, 603, 1752, 1633, 1373, 1133, 1294, 308, 584, 287, 285, 1036, 246, 835, 1790, 2022, 702, 1398, 47, 370, 2090, 1067, 1706, 661, 268, 1501, 53, 581, 65, 610, 258, 1836, 33, 1630, 909, 1944, 1676, 1303, 699, 1001, 1724, 2047, 1022, 128, 1671, 533, 425, 578, 40, 329, 732, 2027, 1480, 967, 228, 1628, 1805, 1409, 1573, 419, 1165, 493, 1587, 52, 2034, 1684, 1541, 2045, 396, 1779, 1118, 662, 608, 193, 15, 377, 1974, 1020, 659, 1885, 1775, 1441, 632, 1811, 942, 281, 735, 1564, 1886, 1668, 1455, 315, 1458, 1862, 1044, 400, 1688, 675, 1851, 1751, 284, 1380, 1100, 1190, 1895, 1327, 822, 2005, 89, 1970, 1649, 1953, 2018, 11, 772, 665, 1268, 1307, 571, 179, 1898, 177, 1250, 2031, 1315, 1743, 283, 509, 1337, 1360, 2093, 1807, 1470, 1826, 637, 500, 1430, 1428, 1027, 626, 1745, 1178, 853, 2012, 1000, 1370, 369, 1759, 1476, 1474, 466, 856, 265, 184, 2097, 1326, 746, 1499, 195, 929, 940, 389, 1212, 98, 333, 1322, 998, 802, 422, 2043, 168, 1054, 43, 1780, 1014, 97, 320, 359, 32, 110, 353, 1135, 1403, 464, 1182, 402, 309, 619, 321, 2019, 881, 1907, 435, 2081, 1028, 327, 879, 1770, 1032, 1986, 623, 689, 1621, 288, 109, 519, 2101, 1732, 1348, 917, 1792, 1213, 1040, 1166, 60, 393, 1702, 459, 642, 449, 937, 1777, 331, 1700, 374, 833, 294, 457, 714, 299, 1945, 429, 869, 1113, 914, 915, 1291, 1179, 898, 1057, 598, 1217, 1539, 1593, 1582, 160, 1477, 73, 293, 1021, 388, 262, 825, 738, 205, 605, 1168, 753, 326, 1699, 670, 559, 1385, 150, 57, 1976, 1110, 1451, 1876, 1497, 356, 107, 558, 1546, 991, 1377, 862, 442, 565, 1540, 260, 423, 1664, 1041, 847, 1877, 1129, 919, 657, 1908, 864, 1870, 2026, 1626, 1060, 37, 607, 1404, 485, 2006, 1552, 36, 1174, 1918, 245, 1245, 259, 645, 1278, 368, 507, 1829, 1490, 1973, 1980, 1472, 1081, 1591, 1089, 1947, 248, 525, 1955, 492, 1147, 1389, 538, 1833, 1015, 815, 64, 1357, 1988, 35, 620, 1977, 1368, 191, 1513, 1878, 1840, 975, 730, 820, 669, 272, 1498, 264, 1196, 1411, 2095, 1234, 1580, 1082, 941, 1077, 1525, 682, 1871, 631, 717, 93, 715, 1247, 1120, 1824, 1872, 142, 291, 968, 286, 1636, 338, 2078, 569, 577, 467, 560, 873, 902, 409, 726, 1572, 1344, 1157, 1750, 1076, 636, 748, 1314, 731, 817, 1457, 1549, 1311, 276, 2104, 891, 904, 1426, 1543, 454, 1849, 302, 749, 2091, 759, 1561, 1111, 543, 1939, 582, 588, 1109, 793, 1083, 899, 21, 1565, 739, 535, 1595, 383, 1394, 1399, 554, 2039, 1661, 1901, 1436, 1823, 253, 505, 403, 740, 254, 794, 534, 470, 30, 1079, 1773, 805, 1887, 496, 1997, 1335, 997, 2067, 1177, 976, 1614, 797, 1092, 1656, 1124, 1012, 271, 99, 1289, 445, 1229, 685, 1645, 54, 1059, 778, 1351, 988, 540, 882, 1721, 1325, 782, 1923, 181, 416, 1025]\n"
          ]
        }
      ]
    },
    {
      "cell_type": "code",
      "source": [
        "print(type(data))\n",
        "sample_data = [data[i] for i in tqdm(sampleidx, desc=\"Sampling data\")]\n"
      ],
      "metadata": {
        "colab": {
          "base_uri": "https://localhost:8080/",
          "height": 67,
          "referenced_widgets": [
            "99a657fe7ae14a9990fb5493a06522bc",
            "9be9dd87811243548f7dbfef81e18a67",
            "812f1be033a647579a345e14433d1387",
            "a9e7a6fbeb8145ca8bdd622702403146",
            "d9c06db5abc14213b187e1930516fd83",
            "32354b1d2de846979923b06bbef501ec",
            "2ce72a37e3ae4a2d93e8eb36f0ae47e2",
            "7023d14b4ead4bdaac53e22cb0073e3b",
            "ebf8f1d2f8b34c81b7cec5be17c3dd43",
            "6899c3eaf5134ded81e81fc954fb90d1",
            "123f885056b94e44aa6543a7cca93005"
          ]
        },
        "id": "yQGiIB06ol_M",
        "outputId": "4e46efec-51eb-43ca-83e0-623289ca65ef"
      },
      "execution_count": 8,
      "outputs": [
        {
          "output_type": "stream",
          "name": "stdout",
          "text": [
            "<class '__main__.CustomImageDataset'>\n"
          ]
        },
        {
          "output_type": "display_data",
          "data": {
            "text/plain": [
              "Sampling data:   0%|          | 0/631 [00:00<?, ?it/s]"
            ],
            "application/vnd.jupyter.widget-view+json": {
              "version_major": 2,
              "version_minor": 0,
              "model_id": "99a657fe7ae14a9990fb5493a06522bc"
            }
          },
          "metadata": {}
        }
      ]
    },
    {
      "cell_type": "code",
      "source": [
        "# image, _ = sample_data[0]\n",
        "# print(image.shape)\n",
        "# print(range(image.shape[0])) basically the same thing as num_bands below."
      ],
      "metadata": {
        "id": "ZekLLOASyIH9"
      },
      "execution_count": 9,
      "outputs": []
    },
    {
      "cell_type": "code",
      "source": [
        "num_bands = sample_data[0][0].shape[0] #number of bands  in the sampled data\n",
        "print(f\"Number of bands in the sampled data: {num_bands}\")\n",
        "\n",
        "#Creating an empty list to flatten and store the bands\n",
        "flatnBandList=[]\n",
        "flatnBandList = [[] for i in range(num_bands)]\n",
        "print(flatnBandList)\n",
        "\n",
        "# Loop over each sample in the dataset\n",
        "for sample in tqdm(sample_data, desc=\"Flattening and Storing Bands\"):\n",
        "    image, _ = sample  # unpack image and ignore label\n",
        "    for i in range(num_bands):\n",
        "        flatnBandList[i].append(image[i].flatten())\n",
        "print(len(flatnBandList))"
      ],
      "metadata": {
        "colab": {
          "base_uri": "https://localhost:8080/",
          "height": 102,
          "referenced_widgets": [
            "91862dcd9bfd48048f89b28d69feaf93",
            "5658e121943445339063c8bd13e11e46",
            "d26ab801efad49809d4f6ae58d0c9dc8",
            "3e34676368464b659addf99279b5eeac",
            "945d3445c4bf4c70ab3355dff78f92f8",
            "292030b59a0c4725845e80131a1792c1",
            "1b033ed1b17c4a1c91c2368d28c2f27a",
            "a47aa959db8346ffaa42a110e6317a17",
            "47a166187955497497db9159ef4cb9af",
            "29355d0bc3154a0b841b326b18219bc9",
            "e4d3d67b07cf4edeac664320cb310379"
          ]
        },
        "id": "ifIty04xnb6q",
        "outputId": "a9e9f8ae-5a15-4d10-df38-62a2c49465e2"
      },
      "execution_count": 10,
      "outputs": [
        {
          "output_type": "stream",
          "name": "stdout",
          "text": [
            "Number of bands in the sampled data: 3\n",
            "[[], [], []]\n"
          ]
        },
        {
          "output_type": "display_data",
          "data": {
            "text/plain": [
              "Flattening and Storing Bands:   0%|          | 0/631 [00:00<?, ?it/s]"
            ],
            "application/vnd.jupyter.widget-view+json": {
              "version_major": 2,
              "version_minor": 0,
              "model_id": "91862dcd9bfd48048f89b28d69feaf93"
            }
          },
          "metadata": {}
        },
        {
          "output_type": "stream",
          "name": "stdout",
          "text": [
            "3\n"
          ]
        }
      ]
    },
    {
      "cell_type": "code",
      "source": [
        "means = []\n",
        "stds = []\n",
        "abs_means = []\n",
        "abs_stds = []\n",
        "\n",
        "for band_values in flatnBandList:\n",
        "    # Convert each array in the band to a float32 tensor\n",
        "    tensors = [torch.tensor(arr, dtype=torch.float32) for arr in band_values]\n",
        "\n",
        "    # Concatenate all tensors into one long 1D tensor\n",
        "    all_pixels = torch.cat(tensors)\n",
        "\n",
        "    # Compute raw mean and std\n",
        "    means.append(all_pixels.mean().item())\n",
        "    stds.append(all_pixels.std().item())\n",
        "\n",
        "    # Compute absolute mean and std (optional, if required)\n",
        "    abs_pixels = torch.abs(all_pixels)\n",
        "    abs_means.append(abs_pixels.mean().item())\n",
        "    abs_stds.append(abs_pixels.std().item())\n",
        "\n",
        "print(\"Band-wise means:\", means)\n",
        "print(\"Band-wise stds:\", stds)\n",
        "print(\"Absolute Band-wise means:\", abs_means)\n",
        "print(\"Absolute Band-wise stds:\", abs_stds)\n",
        "\n",
        "stats = {\n",
        "    \"means\": means,\n",
        "    \"stds\": stds\n",
        "}\n",
        "\n",
        "# Save to file\n",
        "with open(\"band_stats.pkl\", \"wb\") as f:\n",
        "    pickle.dump(stats, f)\n",
        "\n",
        "with open(\"band_stats.pkl\", \"rb\") as f:\n",
        "    loaded_stats = pickle.load(f)\n",
        "\n",
        "print(f\"Band Stat Pickle file loaded successfully. Loaded stats: {loaded_stats}\")\n"
      ],
      "metadata": {
        "colab": {
          "base_uri": "https://localhost:8080/"
        },
        "id": "4chaRMdo9G8B",
        "outputId": "eefcda73-e50d-4e74-e424-d23771a8e776"
      },
      "execution_count": 11,
      "outputs": [
        {
          "output_type": "stream",
          "name": "stdout",
          "text": [
            "Band-wise means: [122.29977416992188, 124.45809936523438, 114.83135986328125]\n",
            "Band-wise stds: [56.0106315612793, 51.57552719116211, 49.975303649902344]\n",
            "Absolute Band-wise means: [122.29977416992188, 124.45809936523438, 114.83135986328125]\n",
            "Absolute Band-wise stds: [56.0106315612793, 51.57552719116211, 49.975303649902344]\n",
            "Band Stat Pickle file loaded successfully. Loaded stats: {'means': [122.29977416992188, 124.45809936523438, 114.83135986328125], 'stds': [56.0106315612793, 51.57552719116211, 49.975303649902344]}\n"
          ]
        }
      ]
    },
    {
      "cell_type": "markdown",
      "source": [
        "Custom Transformation"
      ],
      "metadata": {
        "id": "qANLieA6C7OD"
      }
    },
    {
      "cell_type": "code",
      "source": [
        "from torchvision.transforms import v2\n",
        "\n",
        "class CustomAugmentation:\n",
        "    def __init__(self, resize_size=(256, 256), crop_size=(224, 224),\n",
        "                 do_resize=True, do_random_crop=True, do_horizontal_flip=True, do_random_hue=True):\n",
        "        self.resize_size = resize_size\n",
        "        self.crop_size = crop_size\n",
        "        self.do_resize = do_resize\n",
        "        self.do_random_crop = do_random_crop\n",
        "        self.do_horizontal_flip = do_horizontal_flip\n",
        "        self.do_random_hue = do_random_hue\n",
        "\n",
        "    def __call__(self, image):\n",
        "        if self.do_resize:\n",
        "            image = v2.functional.resize(image, self.resize_size, antialias=True)\n",
        "\n",
        "        if self.do_random_crop:\n",
        "            _, height, width = image.shape\n",
        "            crop_height, crop_width = self.crop_size\n",
        "            top = torch.randint(0, height - crop_height + 1, (1,)).item()\n",
        "            left = torch.randint(0, width - crop_width + 1, (1,)).item()\n",
        "            image = v2.functional.crop(image, top, left, crop_height, crop_width)\n",
        "\n",
        "        if self.do_horizontal_flip and torch.rand(1) > 0.5:\n",
        "            image = v2.functional.horizontal_flip(image)\n",
        "\n",
        "        if self.do_random_hue and torch.rand(1) > 0.5 and image.shape[0] >= 3:\n",
        "            image[:3] = v2.functional.adjust_hue(image[:3], torch.empty(1).uniform_(-0.1, 0.1).item())\n",
        "\n",
        "        return image\n",
        "\n",
        "\n"
      ],
      "metadata": {
        "id": "qGo4ON6AC_GU"
      },
      "execution_count": 12,
      "outputs": []
    },
    {
      "cell_type": "markdown",
      "source": [
        "Z Score Normalization\n",
        "`"
      ],
      "metadata": {
        "id": "4djs-PXLDArv"
      }
    },
    {
      "cell_type": "code",
      "source": [
        "# Load from pickle\n",
        "with open(\"band_stats.pkl\", \"rb\") as f:\n",
        "    loaded_stats = pickle.load(f)\n",
        "\n",
        "class z_score_form_stats:\n",
        "    def __init__(self, mean, std):\n",
        "        self.mean = torch.tensor(mean).view(-1, 1, 1) #(C,W,H)\n",
        "        self.std = torch.tensor(std).view(-1, 1, 1)\n",
        "\n",
        "    def __call__(self, image):\n",
        "        return (image - self.mean) / (self.std + 1e-6)\n",
        "\n",
        "# Final transformation pipeline\n",
        "custom_transform = transforms.Compose([\n",
        "    lambda x: torch.from_numpy(x).float(),\n",
        "    CustomAugmentation(resize_size=(256, 256), crop_size=(224, 224), do_random_hue=False),\n",
        "    z_score_form_stats(mean=loaded_stats[\"means\"], std=loaded_stats[\"stds\"])\n",
        "])\n"
      ],
      "metadata": {
        "id": "Z_ljDgznDDlr"
      },
      "execution_count": 13,
      "outputs": []
    },
    {
      "cell_type": "markdown",
      "source": [],
      "metadata": {
        "id": "nLFvKSGPdUd8"
      }
    },
    {
      "cell_type": "markdown",
      "source": [
        "#Assignment2 Resnet 50"
      ],
      "metadata": {
        "id": "6EFNTfWbDFPa"
      }
    },
    {
      "cell_type": "code",
      "source": [
        "# Apply the final transform to full dataset\n",
        "data_path = r\"/content/drive/My Drive/UCMerced_LandUse/UCMerced_LandUse/Images\"\n",
        "\n",
        "mydataset_full = CustomImageDataset(data_path, img_transform=custom_transform, sensor='rgb')\n",
        "print(len(mydataset_full))\n",
        "print(mydataset_full[1])\n",
        "\n",
        "# Split sizes\n",
        "train_size = int(0.7 * len(mydataset_full))\n",
        "val_size   = int(0.1 * len(mydataset_full))\n",
        "test_size  = len(mydataset_full) - train_size - val_size\n",
        "\n",
        "# Split the dataset\n",
        "train_dataset, val_dataset, test_dataset = random_split(mydataset_full, [train_size, val_size, test_size])\n",
        "\n",
        "# Save paths\n",
        "train_paths = [mydataset_full.tif_files[i] for i in train_dataset.indices]\n",
        "val_paths   = [mydataset_full.tif_files[i] for i in val_dataset.indices]\n",
        "test_paths  = [mydataset_full.tif_files[i] for i in test_dataset.indices]\n",
        "\n",
        "splits_dict = {\n",
        "    \"train_paths\": train_paths,\n",
        "    \"val_paths\": val_paths,\n",
        "    \"test_paths\": test_paths\n",
        "}\n",
        "\n",
        "with open(\"splits.pkl\", \"wb\") as f:\n",
        "    pickle.dump(splits_dict, f)\n",
        "\n",
        "# To reload:\n",
        "with open(\"splits.pkl\", \"rb\") as f:\n",
        "    loaded_splits = pickle.load(f)\n",
        "\n",
        "print(\"Train:\", len(loaded_splits[\"train_paths\"]))\n",
        "print(\"Validation:\", len(loaded_splits[\"val_paths\"]))\n",
        "print(\"Test:\", len(loaded_splits[\"test_paths\"]))\n"
      ],
      "metadata": {
        "colab": {
          "base_uri": "https://localhost:8080/"
        },
        "id": "_q2Kqbk9DOCb",
        "outputId": "044e1f1a-3ad3-4a75-c9f1-b6c957fc629b"
      },
      "execution_count": 15,
      "outputs": [
        {
          "output_type": "stream",
          "name": "stdout",
          "text": [
            "2106\n",
            "(tensor([[[-0.1303, -0.2017, -0.3089,  ...,  0.2982,  0.0125,  0.0661],\n",
            "         [ 0.1375,  0.1018, -0.0232,  ..., -0.4517, -0.0232,  0.4946],\n",
            "         [ 0.0304,  0.1553,  0.2089,  ..., -0.4338, -0.4695, -0.1303],\n",
            "         ...,\n",
            "         [ 0.0125, -0.0054, -0.1303,  ...,  0.2446, -0.1303, -0.0946],\n",
            "         [ 0.1196, -0.0054, -0.3803,  ...,  0.2446,  0.1018,  0.0661],\n",
            "         [ 0.4767,  0.0839,  0.0482,  ..., -0.4874, -0.2017,  0.2803]],\n",
            "\n",
            "        [[-0.1446, -0.1252, -0.2609,  ...,  0.2044, -0.1252, -0.0477],\n",
            "         [ 0.0881,  0.0881, -0.0477,  ..., -0.5518, -0.1252,  0.4177],\n",
            "         [-0.0089,  0.1462,  0.1656,  ..., -0.4742, -0.5324, -0.1834],\n",
            "         ...,\n",
            "         [ 0.0105,  0.0687, -0.1446,  ...,  0.1462, -0.2803, -0.1058],\n",
            "         [ 0.0493, -0.0477, -0.4354,  ...,  0.0881, -0.0670, -0.0089],\n",
            "         [ 0.3595, -0.0477, -0.0670,  ..., -0.7263, -0.3967,  0.1268]],\n",
            "\n",
            "        [[-0.1167, -0.1367, -0.2167,  ...,  0.3235,  0.0034,  0.0834],\n",
            "         [ 0.1234,  0.1034,  0.0034,  ..., -0.4569,  0.0234,  0.5637],\n",
            "         [ 0.0634,  0.1635,  0.2035,  ..., -0.3568, -0.4168, -0.0567],\n",
            "         ...,\n",
            "         [ 0.0834,  0.1234,  0.0234,  ...,  0.2435, -0.1367, -0.0567],\n",
            "         [ 0.1434,  0.0834, -0.2768,  ...,  0.2035,  0.0834,  0.0634],\n",
            "         [ 0.5236,  0.1034,  0.0634,  ..., -0.5569, -0.2367,  0.2635]]]), 0)\n",
            "Train: 1474\n",
            "Validation: 210\n",
            "Test: 422\n"
          ]
        }
      ]
    },
    {
      "cell_type": "markdown",
      "source": [
        "**********************************************************************\n",
        "*********************************************************************\n",
        "***********************************************************************"
      ],
      "metadata": {
        "id": "ioCh74tIEsDx"
      }
    },
    {
      "cell_type": "markdown",
      "source": [
        "##Bottleneck and Resnet 50"
      ],
      "metadata": {
        "id": "lezyVJI5uybK"
      }
    },
    {
      "cell_type": "code",
      "source": [
        "import torch\n",
        "import torch.nn as nn\n",
        "import torch.nn.functional as F\n",
        "\n",
        "# Bottleneck block for ResNet-50/101/152\n",
        "class Bottleneck(nn.Module):\n",
        "    expansion = 4  # Output channels are multiplied by this factor\n",
        "\n",
        "    def __init__(self, in_channels, out_channels, stride=1, downsample=None):\n",
        "        super(Bottleneck, self).__init__()\n",
        "        self.conv1 = nn.Conv2d(in_channels, out_channels, kernel_size=1, bias=False)\n",
        "        self.bn1 = nn.BatchNorm2d(out_channels)\n",
        "\n",
        "        self.conv2 = nn.Conv2d(out_channels, out_channels, kernel_size=3, stride=stride, padding=1, bias=False)\n",
        "        self.bn2 = nn.BatchNorm2d(out_channels)\n",
        "\n",
        "        self.conv3 = nn.Conv2d(out_channels, out_channels * self.expansion, kernel_size=1, bias=False)\n",
        "        self.bn3 = nn.BatchNorm2d(out_channels * self.expansion)\n",
        "\n",
        "        self.relu = nn.ReLU(inplace=True)\n",
        "        self.downsample = downsample\n",
        "\n",
        "    def forward(self, x):\n",
        "        identity = x\n",
        "\n",
        "        out = self.conv1(x)\n",
        "        out = self.bn1(out)\n",
        "        out = self.relu(out)\n",
        "\n",
        "        out = self.conv2(out)\n",
        "        out = self.bn2(out)\n",
        "        out = self.relu(out)\n",
        "\n",
        "        out = self.conv3(out)\n",
        "        out = self.bn3(out)\n",
        "\n",
        "        if self.downsample is not None:\n",
        "            identity = self.downsample(x)\n",
        "\n",
        "        out += identity\n",
        "        out = self.relu(out)\n",
        "\n",
        "        return out\n",
        "\n",
        "# ResNet-50 model\n",
        "class ResNet50(nn.Module):\n",
        "    def __init__(self, num_classes=None):\n",
        "        super(ResNet50, self).__init__()\n",
        "        self.in_channels = 64\n",
        "\n",
        "        self.conv1 = nn.Conv2d(3, 64, kernel_size=7, stride=2, padding=3, bias=False)\n",
        "        self.bn1 = nn.BatchNorm2d(64)\n",
        "        self.relu = nn.ReLU(inplace=True)\n",
        "        self.maxpool = nn.MaxPool2d(kernel_size=3, stride=2, padding=1)\n",
        "\n",
        "        self.layer1 = self._make_layer(Bottleneck, 64, blocks=3)\n",
        "        self.layer2 = self._make_layer(Bottleneck, 128, blocks=4, stride=2)\n",
        "        self.layer3 = self._make_layer(Bottleneck, 256, blocks=6, stride=2)\n",
        "        self.layer4 = self._make_layer(Bottleneck, 512, blocks=3, stride=2)\n",
        "\n",
        "        self.avgpool = nn.AdaptiveAvgPool2d((1, 1))\n",
        "        self.fc = nn.Linear(512 * Bottleneck.expansion, num_classes)\n",
        "\n",
        "    def _make_layer(self, block, out_channels, blocks, stride=1):\n",
        "        downsample = None\n",
        "        if stride != 1 or self.in_channels != out_channels * block.expansion:\n",
        "            downsample = nn.Sequential(\n",
        "                nn.Conv2d(self.in_channels, out_channels * block.expansion, kernel_size=1, stride=stride, bias=False),\n",
        "                nn.BatchNorm2d(out_channels * block.expansion),\n",
        "            )\n",
        "\n",
        "        layers = [block(self.in_channels, out_channels, stride, downsample)]\n",
        "        self.in_channels = out_channels * block.expansion\n",
        "        for _ in range(1, blocks):\n",
        "            layers.append(block(self.in_channels, out_channels))\n",
        "\n",
        "        return nn.Sequential(*layers)\n",
        "\n",
        "    def forward(self, x):\n",
        "        x = self.conv1(x)\n",
        "        x = self.bn1(x)\n",
        "        x = self.relu(x)\n",
        "        x = self.maxpool(x)\n",
        "\n",
        "        x = self.layer1(x)\n",
        "        x = self.layer2(x)\n",
        "        x = self.layer3(x)\n",
        "        x = self.layer4(x)\n",
        "\n",
        "        x = self.avgpool(x)\n",
        "        x = torch.flatten(x, 1)\n",
        "        x = self.fc(x)\n",
        "        return x\n",
        "\n",
        "# Example: Instantiate model for UCMerced (21 classes)\n",
        "model = ResNet50(num_classes=21)\n",
        "print(model)\n"
      ],
      "metadata": {
        "id": "1Z0K2jrQh4Pp",
        "colab": {
          "base_uri": "https://localhost:8080/"
        },
        "outputId": "8e909563-0e01-4467-fac9-772f01744f28"
      },
      "execution_count": 16,
      "outputs": [
        {
          "output_type": "stream",
          "name": "stdout",
          "text": [
            "ResNet50(\n",
            "  (conv1): Conv2d(3, 64, kernel_size=(7, 7), stride=(2, 2), padding=(3, 3), bias=False)\n",
            "  (bn1): BatchNorm2d(64, eps=1e-05, momentum=0.1, affine=True, track_running_stats=True)\n",
            "  (relu): ReLU(inplace=True)\n",
            "  (maxpool): MaxPool2d(kernel_size=3, stride=2, padding=1, dilation=1, ceil_mode=False)\n",
            "  (layer1): Sequential(\n",
            "    (0): Bottleneck(\n",
            "      (conv1): Conv2d(64, 64, kernel_size=(1, 1), stride=(1, 1), bias=False)\n",
            "      (bn1): BatchNorm2d(64, eps=1e-05, momentum=0.1, affine=True, track_running_stats=True)\n",
            "      (conv2): Conv2d(64, 64, kernel_size=(3, 3), stride=(1, 1), padding=(1, 1), bias=False)\n",
            "      (bn2): BatchNorm2d(64, eps=1e-05, momentum=0.1, affine=True, track_running_stats=True)\n",
            "      (conv3): Conv2d(64, 256, kernel_size=(1, 1), stride=(1, 1), bias=False)\n",
            "      (bn3): BatchNorm2d(256, eps=1e-05, momentum=0.1, affine=True, track_running_stats=True)\n",
            "      (relu): ReLU(inplace=True)\n",
            "      (downsample): Sequential(\n",
            "        (0): Conv2d(64, 256, kernel_size=(1, 1), stride=(1, 1), bias=False)\n",
            "        (1): BatchNorm2d(256, eps=1e-05, momentum=0.1, affine=True, track_running_stats=True)\n",
            "      )\n",
            "    )\n",
            "    (1): Bottleneck(\n",
            "      (conv1): Conv2d(256, 64, kernel_size=(1, 1), stride=(1, 1), bias=False)\n",
            "      (bn1): BatchNorm2d(64, eps=1e-05, momentum=0.1, affine=True, track_running_stats=True)\n",
            "      (conv2): Conv2d(64, 64, kernel_size=(3, 3), stride=(1, 1), padding=(1, 1), bias=False)\n",
            "      (bn2): BatchNorm2d(64, eps=1e-05, momentum=0.1, affine=True, track_running_stats=True)\n",
            "      (conv3): Conv2d(64, 256, kernel_size=(1, 1), stride=(1, 1), bias=False)\n",
            "      (bn3): BatchNorm2d(256, eps=1e-05, momentum=0.1, affine=True, track_running_stats=True)\n",
            "      (relu): ReLU(inplace=True)\n",
            "    )\n",
            "    (2): Bottleneck(\n",
            "      (conv1): Conv2d(256, 64, kernel_size=(1, 1), stride=(1, 1), bias=False)\n",
            "      (bn1): BatchNorm2d(64, eps=1e-05, momentum=0.1, affine=True, track_running_stats=True)\n",
            "      (conv2): Conv2d(64, 64, kernel_size=(3, 3), stride=(1, 1), padding=(1, 1), bias=False)\n",
            "      (bn2): BatchNorm2d(64, eps=1e-05, momentum=0.1, affine=True, track_running_stats=True)\n",
            "      (conv3): Conv2d(64, 256, kernel_size=(1, 1), stride=(1, 1), bias=False)\n",
            "      (bn3): BatchNorm2d(256, eps=1e-05, momentum=0.1, affine=True, track_running_stats=True)\n",
            "      (relu): ReLU(inplace=True)\n",
            "    )\n",
            "  )\n",
            "  (layer2): Sequential(\n",
            "    (0): Bottleneck(\n",
            "      (conv1): Conv2d(256, 128, kernel_size=(1, 1), stride=(1, 1), bias=False)\n",
            "      (bn1): BatchNorm2d(128, eps=1e-05, momentum=0.1, affine=True, track_running_stats=True)\n",
            "      (conv2): Conv2d(128, 128, kernel_size=(3, 3), stride=(2, 2), padding=(1, 1), bias=False)\n",
            "      (bn2): BatchNorm2d(128, eps=1e-05, momentum=0.1, affine=True, track_running_stats=True)\n",
            "      (conv3): Conv2d(128, 512, kernel_size=(1, 1), stride=(1, 1), bias=False)\n",
            "      (bn3): BatchNorm2d(512, eps=1e-05, momentum=0.1, affine=True, track_running_stats=True)\n",
            "      (relu): ReLU(inplace=True)\n",
            "      (downsample): Sequential(\n",
            "        (0): Conv2d(256, 512, kernel_size=(1, 1), stride=(2, 2), bias=False)\n",
            "        (1): BatchNorm2d(512, eps=1e-05, momentum=0.1, affine=True, track_running_stats=True)\n",
            "      )\n",
            "    )\n",
            "    (1): Bottleneck(\n",
            "      (conv1): Conv2d(512, 128, kernel_size=(1, 1), stride=(1, 1), bias=False)\n",
            "      (bn1): BatchNorm2d(128, eps=1e-05, momentum=0.1, affine=True, track_running_stats=True)\n",
            "      (conv2): Conv2d(128, 128, kernel_size=(3, 3), stride=(1, 1), padding=(1, 1), bias=False)\n",
            "      (bn2): BatchNorm2d(128, eps=1e-05, momentum=0.1, affine=True, track_running_stats=True)\n",
            "      (conv3): Conv2d(128, 512, kernel_size=(1, 1), stride=(1, 1), bias=False)\n",
            "      (bn3): BatchNorm2d(512, eps=1e-05, momentum=0.1, affine=True, track_running_stats=True)\n",
            "      (relu): ReLU(inplace=True)\n",
            "    )\n",
            "    (2): Bottleneck(\n",
            "      (conv1): Conv2d(512, 128, kernel_size=(1, 1), stride=(1, 1), bias=False)\n",
            "      (bn1): BatchNorm2d(128, eps=1e-05, momentum=0.1, affine=True, track_running_stats=True)\n",
            "      (conv2): Conv2d(128, 128, kernel_size=(3, 3), stride=(1, 1), padding=(1, 1), bias=False)\n",
            "      (bn2): BatchNorm2d(128, eps=1e-05, momentum=0.1, affine=True, track_running_stats=True)\n",
            "      (conv3): Conv2d(128, 512, kernel_size=(1, 1), stride=(1, 1), bias=False)\n",
            "      (bn3): BatchNorm2d(512, eps=1e-05, momentum=0.1, affine=True, track_running_stats=True)\n",
            "      (relu): ReLU(inplace=True)\n",
            "    )\n",
            "    (3): Bottleneck(\n",
            "      (conv1): Conv2d(512, 128, kernel_size=(1, 1), stride=(1, 1), bias=False)\n",
            "      (bn1): BatchNorm2d(128, eps=1e-05, momentum=0.1, affine=True, track_running_stats=True)\n",
            "      (conv2): Conv2d(128, 128, kernel_size=(3, 3), stride=(1, 1), padding=(1, 1), bias=False)\n",
            "      (bn2): BatchNorm2d(128, eps=1e-05, momentum=0.1, affine=True, track_running_stats=True)\n",
            "      (conv3): Conv2d(128, 512, kernel_size=(1, 1), stride=(1, 1), bias=False)\n",
            "      (bn3): BatchNorm2d(512, eps=1e-05, momentum=0.1, affine=True, track_running_stats=True)\n",
            "      (relu): ReLU(inplace=True)\n",
            "    )\n",
            "  )\n",
            "  (layer3): Sequential(\n",
            "    (0): Bottleneck(\n",
            "      (conv1): Conv2d(512, 256, kernel_size=(1, 1), stride=(1, 1), bias=False)\n",
            "      (bn1): BatchNorm2d(256, eps=1e-05, momentum=0.1, affine=True, track_running_stats=True)\n",
            "      (conv2): Conv2d(256, 256, kernel_size=(3, 3), stride=(2, 2), padding=(1, 1), bias=False)\n",
            "      (bn2): BatchNorm2d(256, eps=1e-05, momentum=0.1, affine=True, track_running_stats=True)\n",
            "      (conv3): Conv2d(256, 1024, kernel_size=(1, 1), stride=(1, 1), bias=False)\n",
            "      (bn3): BatchNorm2d(1024, eps=1e-05, momentum=0.1, affine=True, track_running_stats=True)\n",
            "      (relu): ReLU(inplace=True)\n",
            "      (downsample): Sequential(\n",
            "        (0): Conv2d(512, 1024, kernel_size=(1, 1), stride=(2, 2), bias=False)\n",
            "        (1): BatchNorm2d(1024, eps=1e-05, momentum=0.1, affine=True, track_running_stats=True)\n",
            "      )\n",
            "    )\n",
            "    (1): Bottleneck(\n",
            "      (conv1): Conv2d(1024, 256, kernel_size=(1, 1), stride=(1, 1), bias=False)\n",
            "      (bn1): BatchNorm2d(256, eps=1e-05, momentum=0.1, affine=True, track_running_stats=True)\n",
            "      (conv2): Conv2d(256, 256, kernel_size=(3, 3), stride=(1, 1), padding=(1, 1), bias=False)\n",
            "      (bn2): BatchNorm2d(256, eps=1e-05, momentum=0.1, affine=True, track_running_stats=True)\n",
            "      (conv3): Conv2d(256, 1024, kernel_size=(1, 1), stride=(1, 1), bias=False)\n",
            "      (bn3): BatchNorm2d(1024, eps=1e-05, momentum=0.1, affine=True, track_running_stats=True)\n",
            "      (relu): ReLU(inplace=True)\n",
            "    )\n",
            "    (2): Bottleneck(\n",
            "      (conv1): Conv2d(1024, 256, kernel_size=(1, 1), stride=(1, 1), bias=False)\n",
            "      (bn1): BatchNorm2d(256, eps=1e-05, momentum=0.1, affine=True, track_running_stats=True)\n",
            "      (conv2): Conv2d(256, 256, kernel_size=(3, 3), stride=(1, 1), padding=(1, 1), bias=False)\n",
            "      (bn2): BatchNorm2d(256, eps=1e-05, momentum=0.1, affine=True, track_running_stats=True)\n",
            "      (conv3): Conv2d(256, 1024, kernel_size=(1, 1), stride=(1, 1), bias=False)\n",
            "      (bn3): BatchNorm2d(1024, eps=1e-05, momentum=0.1, affine=True, track_running_stats=True)\n",
            "      (relu): ReLU(inplace=True)\n",
            "    )\n",
            "    (3): Bottleneck(\n",
            "      (conv1): Conv2d(1024, 256, kernel_size=(1, 1), stride=(1, 1), bias=False)\n",
            "      (bn1): BatchNorm2d(256, eps=1e-05, momentum=0.1, affine=True, track_running_stats=True)\n",
            "      (conv2): Conv2d(256, 256, kernel_size=(3, 3), stride=(1, 1), padding=(1, 1), bias=False)\n",
            "      (bn2): BatchNorm2d(256, eps=1e-05, momentum=0.1, affine=True, track_running_stats=True)\n",
            "      (conv3): Conv2d(256, 1024, kernel_size=(1, 1), stride=(1, 1), bias=False)\n",
            "      (bn3): BatchNorm2d(1024, eps=1e-05, momentum=0.1, affine=True, track_running_stats=True)\n",
            "      (relu): ReLU(inplace=True)\n",
            "    )\n",
            "    (4): Bottleneck(\n",
            "      (conv1): Conv2d(1024, 256, kernel_size=(1, 1), stride=(1, 1), bias=False)\n",
            "      (bn1): BatchNorm2d(256, eps=1e-05, momentum=0.1, affine=True, track_running_stats=True)\n",
            "      (conv2): Conv2d(256, 256, kernel_size=(3, 3), stride=(1, 1), padding=(1, 1), bias=False)\n",
            "      (bn2): BatchNorm2d(256, eps=1e-05, momentum=0.1, affine=True, track_running_stats=True)\n",
            "      (conv3): Conv2d(256, 1024, kernel_size=(1, 1), stride=(1, 1), bias=False)\n",
            "      (bn3): BatchNorm2d(1024, eps=1e-05, momentum=0.1, affine=True, track_running_stats=True)\n",
            "      (relu): ReLU(inplace=True)\n",
            "    )\n",
            "    (5): Bottleneck(\n",
            "      (conv1): Conv2d(1024, 256, kernel_size=(1, 1), stride=(1, 1), bias=False)\n",
            "      (bn1): BatchNorm2d(256, eps=1e-05, momentum=0.1, affine=True, track_running_stats=True)\n",
            "      (conv2): Conv2d(256, 256, kernel_size=(3, 3), stride=(1, 1), padding=(1, 1), bias=False)\n",
            "      (bn2): BatchNorm2d(256, eps=1e-05, momentum=0.1, affine=True, track_running_stats=True)\n",
            "      (conv3): Conv2d(256, 1024, kernel_size=(1, 1), stride=(1, 1), bias=False)\n",
            "      (bn3): BatchNorm2d(1024, eps=1e-05, momentum=0.1, affine=True, track_running_stats=True)\n",
            "      (relu): ReLU(inplace=True)\n",
            "    )\n",
            "  )\n",
            "  (layer4): Sequential(\n",
            "    (0): Bottleneck(\n",
            "      (conv1): Conv2d(1024, 512, kernel_size=(1, 1), stride=(1, 1), bias=False)\n",
            "      (bn1): BatchNorm2d(512, eps=1e-05, momentum=0.1, affine=True, track_running_stats=True)\n",
            "      (conv2): Conv2d(512, 512, kernel_size=(3, 3), stride=(2, 2), padding=(1, 1), bias=False)\n",
            "      (bn2): BatchNorm2d(512, eps=1e-05, momentum=0.1, affine=True, track_running_stats=True)\n",
            "      (conv3): Conv2d(512, 2048, kernel_size=(1, 1), stride=(1, 1), bias=False)\n",
            "      (bn3): BatchNorm2d(2048, eps=1e-05, momentum=0.1, affine=True, track_running_stats=True)\n",
            "      (relu): ReLU(inplace=True)\n",
            "      (downsample): Sequential(\n",
            "        (0): Conv2d(1024, 2048, kernel_size=(1, 1), stride=(2, 2), bias=False)\n",
            "        (1): BatchNorm2d(2048, eps=1e-05, momentum=0.1, affine=True, track_running_stats=True)\n",
            "      )\n",
            "    )\n",
            "    (1): Bottleneck(\n",
            "      (conv1): Conv2d(2048, 512, kernel_size=(1, 1), stride=(1, 1), bias=False)\n",
            "      (bn1): BatchNorm2d(512, eps=1e-05, momentum=0.1, affine=True, track_running_stats=True)\n",
            "      (conv2): Conv2d(512, 512, kernel_size=(3, 3), stride=(1, 1), padding=(1, 1), bias=False)\n",
            "      (bn2): BatchNorm2d(512, eps=1e-05, momentum=0.1, affine=True, track_running_stats=True)\n",
            "      (conv3): Conv2d(512, 2048, kernel_size=(1, 1), stride=(1, 1), bias=False)\n",
            "      (bn3): BatchNorm2d(2048, eps=1e-05, momentum=0.1, affine=True, track_running_stats=True)\n",
            "      (relu): ReLU(inplace=True)\n",
            "    )\n",
            "    (2): Bottleneck(\n",
            "      (conv1): Conv2d(2048, 512, kernel_size=(1, 1), stride=(1, 1), bias=False)\n",
            "      (bn1): BatchNorm2d(512, eps=1e-05, momentum=0.1, affine=True, track_running_stats=True)\n",
            "      (conv2): Conv2d(512, 512, kernel_size=(3, 3), stride=(1, 1), padding=(1, 1), bias=False)\n",
            "      (bn2): BatchNorm2d(512, eps=1e-05, momentum=0.1, affine=True, track_running_stats=True)\n",
            "      (conv3): Conv2d(512, 2048, kernel_size=(1, 1), stride=(1, 1), bias=False)\n",
            "      (bn3): BatchNorm2d(2048, eps=1e-05, momentum=0.1, affine=True, track_running_stats=True)\n",
            "      (relu): ReLU(inplace=True)\n",
            "    )\n",
            "  )\n",
            "  (avgpool): AdaptiveAvgPool2d(output_size=(1, 1))\n",
            "  (fc): Linear(in_features=2048, out_features=21, bias=True)\n",
            ")\n"
          ]
        }
      ]
    },
    {
      "cell_type": "markdown",
      "source": [
        "##Training and Validation"
      ],
      "metadata": {
        "id": "ziYgN6isu6mK"
      }
    },
    {
      "cell_type": "code",
      "source": [
        "import torch\n",
        "import torch.nn as nn\n",
        "import torch.optim as optim\n",
        "from torch.utils.data import DataLoader\n",
        "import matplotlib.pyplot as plt\n",
        "\n",
        "# Device setup\n",
        "device = torch.device(\"cuda\" if torch.cuda.is_available() else \"cpu\")\n",
        "\n",
        "# DataLoaders\n",
        "batch_size = 32\n",
        "train_loader = DataLoader(train_dataset, batch_size=batch_size, shuffle=True)\n",
        "val_loader = DataLoader(val_dataset, batch_size=batch_size, shuffle=False)\n",
        "test_loader = DataLoader(test_dataset, batch_size=batch_size, shuffle=False)\n",
        "\n",
        "# Model, loss, optimizer, scheduler\n",
        "model = ResNet50(num_classes=21).to(device)\n",
        "criterion = nn.CrossEntropyLoss()\n",
        "optimizer = optim.Adam(model.parameters(), lr=1e-4)\n",
        "scheduler = optim.lr_scheduler.StepLR(optimizer, step_size=20, gamma=0.1)\n",
        "\n",
        "# For tracking\n",
        "train_losses, val_losses = [], []\n",
        "best_val_loss = float('inf')\n",
        "best_model_state = None\n",
        "\n",
        "# Training loop\n",
        "for epoch in range(1, 61):  # 60 epochs\n",
        "    model.train()\n",
        "    train_loss = 0.0\n",
        "    for images, labels in train_loader:\n",
        "        images, labels = images.to(device), labels.to(device)\n",
        "\n",
        "        optimizer.zero_grad()\n",
        "        outputs = model(images)\n",
        "        loss = criterion(outputs, labels)\n",
        "        loss.backward()\n",
        "        optimizer.step()\n",
        "        train_loss += loss.item()\n",
        "\n",
        "    avg_train_loss = train_loss / len(train_loader)\n",
        "    train_losses.append(avg_train_loss)\n",
        "\n",
        "    # Validation\n",
        "    model.eval()\n",
        "    val_loss = 0.0\n",
        "    with torch.no_grad():\n",
        "        for images, labels in val_loader:\n",
        "            images, labels = images.to(device), labels.to(device)\n",
        "            outputs = model(images)\n",
        "            loss = criterion(outputs, labels)\n",
        "            val_loss += loss.item()\n",
        "\n",
        "    avg_val_loss = val_loss / len(val_loader)\n",
        "    val_losses.append(avg_val_loss)\n",
        "\n",
        "    print(f\"Epoch {epoch:02d}: Train Loss = {avg_train_loss:.4f}, Val Loss = {avg_val_loss:.4f}\")\n",
        "\n",
        "    if avg_val_loss < best_val_loss:\n",
        "        best_val_loss = avg_val_loss\n",
        "        best_model_state = model.state_dict()\n",
        "\n",
        "    scheduler.step()\n",
        "\n",
        "\n"
      ],
      "metadata": {
        "colab": {
          "base_uri": "https://localhost:8080/"
        },
        "id": "xCH1skJBh4LQ",
        "outputId": "d33501b5-f93e-4b90-fcfd-22dbdf55eda3"
      },
      "execution_count": 17,
      "outputs": [
        {
          "output_type": "stream",
          "name": "stdout",
          "text": [
            "Epoch 01: Train Loss = 2.6310, Val Loss = 4.0806\n",
            "Epoch 02: Train Loss = 2.0109, Val Loss = 1.8894\n",
            "Epoch 03: Train Loss = 1.6602, Val Loss = 1.5585\n",
            "Epoch 04: Train Loss = 1.3500, Val Loss = 1.1539\n",
            "Epoch 05: Train Loss = 1.2520, Val Loss = 1.4667\n",
            "Epoch 06: Train Loss = 1.1643, Val Loss = 1.0282\n",
            "Epoch 07: Train Loss = 1.0510, Val Loss = 1.2588\n",
            "Epoch 08: Train Loss = 0.9955, Val Loss = 0.8560\n",
            "Epoch 09: Train Loss = 0.9727, Val Loss = 1.3262\n",
            "Epoch 10: Train Loss = 0.8778, Val Loss = 1.1359\n",
            "Epoch 11: Train Loss = 0.8048, Val Loss = 0.7842\n",
            "Epoch 12: Train Loss = 0.8034, Val Loss = 0.8054\n",
            "Epoch 13: Train Loss = 0.6307, Val Loss = 0.7035\n",
            "Epoch 14: Train Loss = 0.5596, Val Loss = 0.9443\n",
            "Epoch 15: Train Loss = 0.5627, Val Loss = 1.3999\n",
            "Epoch 16: Train Loss = 0.6030, Val Loss = 0.7420\n",
            "Epoch 17: Train Loss = 0.6438, Val Loss = 0.5763\n",
            "Epoch 18: Train Loss = 0.4565, Val Loss = 0.8396\n",
            "Epoch 19: Train Loss = 0.5504, Val Loss = 0.8030\n",
            "Epoch 20: Train Loss = 0.5208, Val Loss = 0.7117\n",
            "Epoch 21: Train Loss = 0.4013, Val Loss = 0.4226\n",
            "Epoch 22: Train Loss = 0.2617, Val Loss = 0.4201\n",
            "Epoch 23: Train Loss = 0.2159, Val Loss = 0.4028\n",
            "Epoch 24: Train Loss = 0.2240, Val Loss = 0.3266\n",
            "Epoch 25: Train Loss = 0.2096, Val Loss = 0.4218\n",
            "Epoch 26: Train Loss = 0.2005, Val Loss = 0.3541\n",
            "Epoch 27: Train Loss = 0.1797, Val Loss = 0.4013\n",
            "Epoch 28: Train Loss = 0.1843, Val Loss = 0.3929\n",
            "Epoch 29: Train Loss = 0.1903, Val Loss = 0.3533\n",
            "Epoch 30: Train Loss = 0.1700, Val Loss = 0.3780\n",
            "Epoch 31: Train Loss = 0.1809, Val Loss = 0.3661\n",
            "Epoch 32: Train Loss = 0.2992, Val Loss = 0.3538\n",
            "Epoch 33: Train Loss = 0.1622, Val Loss = 0.2960\n",
            "Epoch 34: Train Loss = 0.1385, Val Loss = 0.3445\n",
            "Epoch 35: Train Loss = 0.1489, Val Loss = 0.3535\n",
            "Epoch 36: Train Loss = 0.1666, Val Loss = 0.2885\n",
            "Epoch 37: Train Loss = 0.1275, Val Loss = 0.4044\n",
            "Epoch 38: Train Loss = 0.1615, Val Loss = 0.2850\n",
            "Epoch 39: Train Loss = 0.1369, Val Loss = 0.3117\n",
            "Epoch 40: Train Loss = 0.1184, Val Loss = 0.2701\n",
            "Epoch 41: Train Loss = 0.1311, Val Loss = 0.3081\n",
            "Epoch 42: Train Loss = 0.1416, Val Loss = 0.2756\n",
            "Epoch 43: Train Loss = 0.1294, Val Loss = 0.2640\n",
            "Epoch 44: Train Loss = 0.0979, Val Loss = 0.3066\n",
            "Epoch 45: Train Loss = 0.1014, Val Loss = 0.3181\n",
            "Epoch 46: Train Loss = 0.0833, Val Loss = 0.2861\n",
            "Epoch 47: Train Loss = 0.1038, Val Loss = 0.3344\n",
            "Epoch 48: Train Loss = 0.1324, Val Loss = 0.2928\n",
            "Epoch 49: Train Loss = 0.0920, Val Loss = 0.3019\n",
            "Epoch 50: Train Loss = 0.0892, Val Loss = 0.2800\n",
            "Epoch 51: Train Loss = 0.1109, Val Loss = 0.2591\n",
            "Epoch 52: Train Loss = 0.0945, Val Loss = 0.2549\n",
            "Epoch 53: Train Loss = 0.1367, Val Loss = 0.2894\n",
            "Epoch 54: Train Loss = 0.1072, Val Loss = 0.2345\n",
            "Epoch 55: Train Loss = 0.0891, Val Loss = 0.2958\n",
            "Epoch 56: Train Loss = 0.1117, Val Loss = 0.3079\n",
            "Epoch 57: Train Loss = 0.1099, Val Loss = 0.2656\n",
            "Epoch 58: Train Loss = 0.0917, Val Loss = 0.2967\n",
            "Epoch 59: Train Loss = 0.1336, Val Loss = 0.2915\n",
            "Epoch 60: Train Loss = 0.1801, Val Loss = 0.2877\n"
          ]
        }
      ]
    },
    {
      "cell_type": "markdown",
      "source": [
        "##Training Results"
      ],
      "metadata": {
        "id": "bNIDqacztIlC"
      }
    },
    {
      "cell_type": "code",
      "source": [
        "# Load best model\n",
        "model.load_state_dict(best_model_state)\n",
        "\n",
        "# Plot train/val loss\n",
        "plt.figure(figsize=(8, 5))\n",
        "plt.plot(train_losses, label='Train Loss')\n",
        "plt.plot(val_losses, label='Validation Loss')\n",
        "plt.xlabel(\"Epoch\")\n",
        "plt.ylabel(\"Loss\")\n",
        "plt.title(\"Training & Validation Loss over Epochs\")\n",
        "plt.legend()\n",
        "plt.grid(True)\n",
        "plt.show()"
      ],
      "metadata": {
        "colab": {
          "base_uri": "https://localhost:8080/",
          "height": 487
        },
        "id": "fPrB0Xt5n12a",
        "outputId": "251bd79d-2b08-45ca-b7a4-2516344e35d4"
      },
      "execution_count": 18,
      "outputs": [
        {
          "output_type": "display_data",
          "data": {
            "text/plain": [
              "<Figure size 800x500 with 1 Axes>"
            ],
            "image/png": "[encoded data removed]"
          },
          "metadata": {}
        }
      ]
    },
    {
      "cell_type": "markdown",
      "source": [
        "##Model Evaluation"
      ],
      "metadata": {
        "id": "grcmytMEtFER"
      }
    },
    {
      "cell_type": "code",
      "source": [
        "from sklearn.metrics import classification_report\n",
        "\n",
        "# Inference on test set\n",
        "all_preds = []\n",
        "all_labels = []\n",
        "\n",
        "model.eval()\n",
        "with torch.no_grad():\n",
        "    for x, y in test_loader:\n",
        "        x, y = x.to(device), y.to(device)\n",
        "        preds = model(x).argmax(dim=1)\n",
        "        all_preds.extend(preds.cpu().numpy())\n",
        "        all_labels.extend(y.cpu().numpy())\n",
        "\n",
        "# Generate and print report\n",
        "print(classification_report(all_labels, all_preds, digits=3))\n"
      ],
      "metadata": {
        "colab": {
          "base_uri": "https://localhost:8080/"
        },
        "id": "7gyzf0QS_F2f",
        "outputId": "4fc81ddf-ab6a-40d5-8daf-d1fbd642f417"
      },
      "execution_count": 23,
      "outputs": [
        {
          "output_type": "stream",
          "name": "stdout",
          "text": [
            "              precision    recall  f1-score   support\n",
            "\n",
            "           0      0.864     0.950     0.905        20\n",
            "           1      0.950     0.905     0.927        21\n",
            "           2      0.923     0.857     0.889        14\n",
            "           3      1.000     1.000     1.000        24\n",
            "           4      0.706     0.632     0.667        19\n",
            "           5      1.000     1.000     1.000        21\n",
            "           6      0.882     0.714     0.789        21\n",
            "           7      0.950     0.905     0.927        21\n",
            "           8      0.846     0.957     0.898        23\n",
            "           9      0.800     0.960     0.873        25\n",
            "          10      1.000     1.000     1.000        18\n",
            "          11      0.875     1.000     0.933        14\n",
            "          12      0.529     0.900     0.667        10\n",
            "          13      0.941     0.941     0.941        17\n",
            "          14      0.929     0.867     0.897        15\n",
            "          15      1.000     0.957     0.978        23\n",
            "          16      0.958     0.920     0.939        25\n",
            "          17      1.000     1.000     1.000        26\n",
            "          18      0.944     0.739     0.829        23\n",
            "          19      0.727     0.842     0.780        19\n",
            "          20      0.944     0.739     0.829        23\n",
            "\n",
            "    accuracy                          0.896       422\n",
            "   macro avg      0.894     0.894     0.889       422\n",
            "weighted avg      0.906     0.896     0.896       422\n",
            "\n"
          ]
        }
      ]
    }
  ]
}